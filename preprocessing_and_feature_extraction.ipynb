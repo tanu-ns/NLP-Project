{
  "cells": [
    {
      "cell_type": "markdown",
      "metadata": {
        "id": "view-in-github",
        "colab_type": "text"
      },
      "source": [
        "<a href=\"https://colab.research.google.com/github/tanu-ns/NLP-Project/blob/main/preprocessing_and_feature_extraction.ipynb\" target=\"_parent\"><img src=\"https://colab.research.google.com/assets/colab-badge.svg\" alt=\"Open In Colab\"/></a>"
      ]
    },
    {
      "cell_type": "code",
      "execution_count": null,
      "metadata": {
        "colab": {
          "base_uri": "https://localhost:8080/"
        },
        "id": "DWAHYNA5-G39",
        "outputId": "6373d21b-7191-4436-e5b8-394ca4d381bd"
      },
      "outputs": [
        {
          "output_type": "stream",
          "name": "stdout",
          "text": [
            "Mounted at /content/drive\n"
          ]
        }
      ],
      "source": [
        "from google.colab import drive\n",
        "drive.mount('/content/drive')"
      ]
    },
    {
      "cell_type": "code",
      "execution_count": null,
      "metadata": {
        "id": "bEHasOqL-fUX",
        "colab": {
          "base_uri": "https://localhost:8080/"
        },
        "outputId": "d38805da-5b36-4357-e478-673a6f00bbd0"
      },
      "outputs": [
        {
          "output_type": "stream",
          "name": "stderr",
          "text": [
            "[nltk_data] Downloading package indian to /root/nltk_data...\n",
            "[nltk_data]   Unzipping corpora/indian.zip.\n",
            "[nltk_data] Downloading package punkt to /root/nltk_data...\n",
            "[nltk_data]   Unzipping tokenizers/punkt.zip.\n",
            "[nltk_data] Downloading package averaged_perceptron_tagger to\n",
            "[nltk_data]     /root/nltk_data...\n",
            "[nltk_data]   Unzipping taggers/averaged_perceptron_tagger.zip.\n"
          ]
        }
      ],
      "source": [
        "import pandas as pd\n",
        "import numpy as np\n",
        "import math\n",
        "import nltk\n",
        "nltk.download('indian')\n",
        "nltk.download('punkt')\n",
        "nltk.download('averaged_perceptron_tagger')\n",
        "from nltk.tag import tnt\n",
        "from nltk.corpus import indian\n",
        "from sklearn.metrics.pairwise import cosine_similarity\n",
        "from numpy.linalg import norm"
      ]
    },
    {
      "cell_type": "code",
      "execution_count": null,
      "metadata": {
        "id": "tGhzfZfT-oHl",
        "colab": {
          "base_uri": "https://localhost:8080/",
          "height": 337
        },
        "outputId": "bc362035-bfd5-43f8-c482-ad7ea54d1dba"
      },
      "outputs": [
        {
          "output_type": "execute_result",
          "data": {
            "text/plain": [
              "                                 id  \\\n",
              "0  a3d72cd62e7e1b5529dd254a85fa2b5a   \n",
              "1  f8904fd63c1d257dc5ee9b529df4a097   \n",
              "2  4e89ee2300613ae0c0e8db4ed0e2c7aa   \n",
              "3  9a382557dc6afda0dfaf04210d16224f   \n",
              "4  928dcc9264915737630ab0e32f4a9b28   \n",
              "\n",
              "                                                Link  \\\n",
              "0  https://www.indiatv.in/india/national/india-su...   \n",
              "1  https://www.indiatv.in/india/national-covid-19...   \n",
              "2  https://www.indiatv.in/india/uttar-pradesh/bjp...   \n",
              "3  https://www.indiatv.in/india/uttar-pradesh-si-...   \n",
              "4  https://www.indiatv.in/india/politics-farm-law...   \n",
              "\n",
              "                                             Heading  \\\n",
              "0  भारत की बढ़ी ताकत, ‘अग्नि प्राइम’ मिसाइल का हु...   \n",
              "1  Covid-19 Vaccination: देश में कोविड टीके की 40...   \n",
              "2  यूपी में ब्राह्मण वोटरों को साधने की तैयारी कर...   \n",
              "3  बागपत में बिना इजाजत दाढ़ी रखने पर दरोगा सस्पे...   \n",
              "4  कृषि क़ानूनों की वापसी की घोषणा पर मैं अवाक रह...   \n",
              "\n",
              "                                             Summary  \\\n",
              "0  भारत ने शनिवार को ओडिशा के बालासोर तट पर ‘अग्न...   \n",
              "1  केंद्रीय स्वास्थ्य मंत्रालय के मुताबिक, आज शाम...   \n",
              "2  बीजेपी के केंद्र सरकार में ब्राह्मण मंत्रियों,...   \n",
              "3  उत्तर प्रदेश के बागपत में बिना अनुमति के बड़ी ...   \n",
              "4  उमा भारती ने कहा कि अगर तीन कृषि कानूनों की मह...   \n",
              "\n",
              "                                             Article  \n",
              "0  भुवनेश्वर : भारत ने शनिवार को ओडिशा के बालासोर...  \n",
              "1  नई दिल्ली। देश में कोरोना की संभावित तीसरी लहर...  \n",
              "2  बीजेपी यूपी में जनवरी के दूसरे हफ्ते से ब्राह्...  \n",
              "3  बागपत: उत्तर प्रदेश के बागपत में बिना अनुमति क...  \n",
              "4  भोपाल: मध्य प्रदेश की पूर्व मुख्यमंत्री और बीज...  "
            ],
            "text/html": [
              "\n",
              "\n",
              "  <div id=\"df-2a08d71d-3c91-4fdd-a635-718bf30ba609\">\n",
              "    <div class=\"colab-df-container\">\n",
              "      <div>\n",
              "<style scoped>\n",
              "    .dataframe tbody tr th:only-of-type {\n",
              "        vertical-align: middle;\n",
              "    }\n",
              "\n",
              "    .dataframe tbody tr th {\n",
              "        vertical-align: top;\n",
              "    }\n",
              "\n",
              "    .dataframe thead th {\n",
              "        text-align: right;\n",
              "    }\n",
              "</style>\n",
              "<table border=\"1\" class=\"dataframe\">\n",
              "  <thead>\n",
              "    <tr style=\"text-align: right;\">\n",
              "      <th></th>\n",
              "      <th>id</th>\n",
              "      <th>Link</th>\n",
              "      <th>Heading</th>\n",
              "      <th>Summary</th>\n",
              "      <th>Article</th>\n",
              "    </tr>\n",
              "  </thead>\n",
              "  <tbody>\n",
              "    <tr>\n",
              "      <th>0</th>\n",
              "      <td>a3d72cd62e7e1b5529dd254a85fa2b5a</td>\n",
              "      <td>https://www.indiatv.in/india/national/india-su...</td>\n",
              "      <td>भारत की बढ़ी ताकत, ‘अग्नि प्राइम’ मिसाइल का हु...</td>\n",
              "      <td>भारत ने शनिवार को ओडिशा के बालासोर तट पर ‘अग्न...</td>\n",
              "      <td>भुवनेश्वर : भारत ने शनिवार को ओडिशा के बालासोर...</td>\n",
              "    </tr>\n",
              "    <tr>\n",
              "      <th>1</th>\n",
              "      <td>f8904fd63c1d257dc5ee9b529df4a097</td>\n",
              "      <td>https://www.indiatv.in/india/national-covid-19...</td>\n",
              "      <td>Covid-19 Vaccination: देश में कोविड टीके की 40...</td>\n",
              "      <td>केंद्रीय स्वास्थ्य मंत्रालय के मुताबिक, आज शाम...</td>\n",
              "      <td>नई दिल्ली। देश में कोरोना की संभावित तीसरी लहर...</td>\n",
              "    </tr>\n",
              "    <tr>\n",
              "      <th>2</th>\n",
              "      <td>4e89ee2300613ae0c0e8db4ed0e2c7aa</td>\n",
              "      <td>https://www.indiatv.in/india/uttar-pradesh/bjp...</td>\n",
              "      <td>यूपी में ब्राह्मण वोटरों को साधने की तैयारी कर...</td>\n",
              "      <td>बीजेपी के केंद्र सरकार में ब्राह्मण मंत्रियों,...</td>\n",
              "      <td>बीजेपी यूपी में जनवरी के दूसरे हफ्ते से ब्राह्...</td>\n",
              "    </tr>\n",
              "    <tr>\n",
              "      <th>3</th>\n",
              "      <td>9a382557dc6afda0dfaf04210d16224f</td>\n",
              "      <td>https://www.indiatv.in/india/uttar-pradesh-si-...</td>\n",
              "      <td>बागपत में बिना इजाजत दाढ़ी रखने पर दरोगा सस्पे...</td>\n",
              "      <td>उत्तर प्रदेश के बागपत में बिना अनुमति के बड़ी ...</td>\n",
              "      <td>बागपत: उत्तर प्रदेश के बागपत में बिना अनुमति क...</td>\n",
              "    </tr>\n",
              "    <tr>\n",
              "      <th>4</th>\n",
              "      <td>928dcc9264915737630ab0e32f4a9b28</td>\n",
              "      <td>https://www.indiatv.in/india/politics-farm-law...</td>\n",
              "      <td>कृषि क़ानूनों की वापसी की घोषणा पर मैं अवाक रह...</td>\n",
              "      <td>उमा भारती ने कहा कि अगर तीन कृषि कानूनों की मह...</td>\n",
              "      <td>भोपाल: मध्य प्रदेश की पूर्व मुख्यमंत्री और बीज...</td>\n",
              "    </tr>\n",
              "  </tbody>\n",
              "</table>\n",
              "</div>\n",
              "      <button class=\"colab-df-convert\" onclick=\"convertToInteractive('df-2a08d71d-3c91-4fdd-a635-718bf30ba609')\"\n",
              "              title=\"Convert this dataframe to an interactive table.\"\n",
              "              style=\"display:none;\">\n",
              "\n",
              "  <svg xmlns=\"http://www.w3.org/2000/svg\" height=\"24px\"viewBox=\"0 0 24 24\"\n",
              "       width=\"24px\">\n",
              "    <path d=\"M0 0h24v24H0V0z\" fill=\"none\"/>\n",
              "    <path d=\"M18.56 5.44l.94 2.06.94-2.06 2.06-.94-2.06-.94-.94-2.06-.94 2.06-2.06.94zm-11 1L8.5 8.5l.94-2.06 2.06-.94-2.06-.94L8.5 2.5l-.94 2.06-2.06.94zm10 10l.94 2.06.94-2.06 2.06-.94-2.06-.94-.94-2.06-.94 2.06-2.06.94z\"/><path d=\"M17.41 7.96l-1.37-1.37c-.4-.4-.92-.59-1.43-.59-.52 0-1.04.2-1.43.59L10.3 9.45l-7.72 7.72c-.78.78-.78 2.05 0 2.83L4 21.41c.39.39.9.59 1.41.59.51 0 1.02-.2 1.41-.59l7.78-7.78 2.81-2.81c.8-.78.8-2.07 0-2.86zM5.41 20L4 18.59l7.72-7.72 1.47 1.35L5.41 20z\"/>\n",
              "  </svg>\n",
              "      </button>\n",
              "\n",
              "\n",
              "\n",
              "    <div id=\"df-3aad3fa4-cbc6-47f6-8287-463e0f9bac6f\">\n",
              "      <button class=\"colab-df-quickchart\" onclick=\"quickchart('df-3aad3fa4-cbc6-47f6-8287-463e0f9bac6f')\"\n",
              "              title=\"Suggest charts.\"\n",
              "              style=\"display:none;\">\n",
              "\n",
              "<svg xmlns=\"http://www.w3.org/2000/svg\" height=\"24px\"viewBox=\"0 0 24 24\"\n",
              "     width=\"24px\">\n",
              "    <g>\n",
              "        <path d=\"M19 3H5c-1.1 0-2 .9-2 2v14c0 1.1.9 2 2 2h14c1.1 0 2-.9 2-2V5c0-1.1-.9-2-2-2zM9 17H7v-7h2v7zm4 0h-2V7h2v10zm4 0h-2v-4h2v4z\"/>\n",
              "    </g>\n",
              "</svg>\n",
              "      </button>\n",
              "    </div>\n",
              "\n",
              "<style>\n",
              "  .colab-df-quickchart {\n",
              "    background-color: #E8F0FE;\n",
              "    border: none;\n",
              "    border-radius: 50%;\n",
              "    cursor: pointer;\n",
              "    display: none;\n",
              "    fill: #1967D2;\n",
              "    height: 32px;\n",
              "    padding: 0 0 0 0;\n",
              "    width: 32px;\n",
              "  }\n",
              "\n",
              "  .colab-df-quickchart:hover {\n",
              "    background-color: #E2EBFA;\n",
              "    box-shadow: 0px 1px 2px rgba(60, 64, 67, 0.3), 0px 1px 3px 1px rgba(60, 64, 67, 0.15);\n",
              "    fill: #174EA6;\n",
              "  }\n",
              "\n",
              "  [theme=dark] .colab-df-quickchart {\n",
              "    background-color: #3B4455;\n",
              "    fill: #D2E3FC;\n",
              "  }\n",
              "\n",
              "  [theme=dark] .colab-df-quickchart:hover {\n",
              "    background-color: #434B5C;\n",
              "    box-shadow: 0px 1px 3px 1px rgba(0, 0, 0, 0.15);\n",
              "    filter: drop-shadow(0px 1px 2px rgba(0, 0, 0, 0.3));\n",
              "    fill: #FFFFFF;\n",
              "  }\n",
              "</style>\n",
              "\n",
              "    <script>\n",
              "      async function quickchart(key) {\n",
              "        const containerElement = document.querySelector('#' + key);\n",
              "        const charts = await google.colab.kernel.invokeFunction(\n",
              "            'suggestCharts', [key], {});\n",
              "      }\n",
              "    </script>\n",
              "\n",
              "      <script>\n",
              "\n",
              "function displayQuickchartButton(domScope) {\n",
              "  let quickchartButtonEl =\n",
              "    domScope.querySelector('#df-3aad3fa4-cbc6-47f6-8287-463e0f9bac6f button.colab-df-quickchart');\n",
              "  quickchartButtonEl.style.display =\n",
              "    google.colab.kernel.accessAllowed ? 'block' : 'none';\n",
              "}\n",
              "\n",
              "        displayQuickchartButton(document);\n",
              "      </script>\n",
              "      <style>\n",
              "    .colab-df-container {\n",
              "      display:flex;\n",
              "      flex-wrap:wrap;\n",
              "      gap: 12px;\n",
              "    }\n",
              "\n",
              "    .colab-df-convert {\n",
              "      background-color: #E8F0FE;\n",
              "      border: none;\n",
              "      border-radius: 50%;\n",
              "      cursor: pointer;\n",
              "      display: none;\n",
              "      fill: #1967D2;\n",
              "      height: 32px;\n",
              "      padding: 0 0 0 0;\n",
              "      width: 32px;\n",
              "    }\n",
              "\n",
              "    .colab-df-convert:hover {\n",
              "      background-color: #E2EBFA;\n",
              "      box-shadow: 0px 1px 2px rgba(60, 64, 67, 0.3), 0px 1px 3px 1px rgba(60, 64, 67, 0.15);\n",
              "      fill: #174EA6;\n",
              "    }\n",
              "\n",
              "    [theme=dark] .colab-df-convert {\n",
              "      background-color: #3B4455;\n",
              "      fill: #D2E3FC;\n",
              "    }\n",
              "\n",
              "    [theme=dark] .colab-df-convert:hover {\n",
              "      background-color: #434B5C;\n",
              "      box-shadow: 0px 1px 3px 1px rgba(0, 0, 0, 0.15);\n",
              "      filter: drop-shadow(0px 1px 2px rgba(0, 0, 0, 0.3));\n",
              "      fill: #FFFFFF;\n",
              "    }\n",
              "  </style>\n",
              "\n",
              "      <script>\n",
              "        const buttonEl =\n",
              "          document.querySelector('#df-2a08d71d-3c91-4fdd-a635-718bf30ba609 button.colab-df-convert');\n",
              "        buttonEl.style.display =\n",
              "          google.colab.kernel.accessAllowed ? 'block' : 'none';\n",
              "\n",
              "        async function convertToInteractive(key) {\n",
              "          const element = document.querySelector('#df-2a08d71d-3c91-4fdd-a635-718bf30ba609');\n",
              "          const dataTable =\n",
              "            await google.colab.kernel.invokeFunction('convertToInteractive',\n",
              "                                                     [key], {});\n",
              "          if (!dataTable) return;\n",
              "\n",
              "          const docLinkHtml = 'Like what you see? Visit the ' +\n",
              "            '<a target=\"_blank\" href=https://colab.research.google.com/notebooks/data_table.ipynb>data table notebook</a>'\n",
              "            + ' to learn more about interactive tables.';\n",
              "          element.innerHTML = '';\n",
              "          dataTable['output_type'] = 'display_data';\n",
              "          await google.colab.output.renderOutput(dataTable, element);\n",
              "          const docLink = document.createElement('div');\n",
              "          docLink.innerHTML = docLinkHtml;\n",
              "          element.appendChild(docLink);\n",
              "        }\n",
              "      </script>\n",
              "    </div>\n",
              "  </div>\n"
            ]
          },
          "metadata": {},
          "execution_count": 3
        }
      ],
      "source": [
        "df = pd.read_csv('/content/drive/MyDrive/Minor Project/Hin_train.csv')\n",
        "df.head()"
      ]
    },
    {
      "cell_type": "code",
      "execution_count": null,
      "metadata": {
        "id": "V2xy1SuA_JlC"
      },
      "outputs": [],
      "source": [
        "df.drop(\n",
        "    ['id','Link'],\n",
        "    axis = 1,\n",
        "    inplace = True\n",
        ")"
      ]
    },
    {
      "cell_type": "code",
      "execution_count": null,
      "metadata": {
        "id": "3cWGmQqnKasb",
        "colab": {
          "base_uri": "https://localhost:8080/",
          "height": 206
        },
        "outputId": "afaaaa26-e15b-4f82-cb87-d8ee17fc0cdb"
      },
      "outputs": [
        {
          "output_type": "execute_result",
          "data": {
            "text/plain": [
              "                                             Heading  \\\n",
              "0  भारत की बढ़ी ताकत, ‘अग्नि प्राइम’ मिसाइल का हु...   \n",
              "1  Covid-19 Vaccination: देश में कोविड टीके की 40...   \n",
              "2  यूपी में ब्राह्मण वोटरों को साधने की तैयारी कर...   \n",
              "3  बागपत में बिना इजाजत दाढ़ी रखने पर दरोगा सस्पे...   \n",
              "4  कृषि क़ानूनों की वापसी की घोषणा पर मैं अवाक रह...   \n",
              "\n",
              "                                             Summary  \\\n",
              "0  भारत ने शनिवार को ओडिशा के बालासोर तट पर ‘अग्न...   \n",
              "1  केंद्रीय स्वास्थ्य मंत्रालय के मुताबिक, आज शाम...   \n",
              "2  बीजेपी के केंद्र सरकार में ब्राह्मण मंत्रियों,...   \n",
              "3  उत्तर प्रदेश के बागपत में बिना अनुमति के बड़ी ...   \n",
              "4  उमा भारती ने कहा कि अगर तीन कृषि कानूनों की मह...   \n",
              "\n",
              "                                             Article  \n",
              "0  भुवनेश्वर : भारत ने शनिवार को ओडिशा के बालासोर...  \n",
              "1  नई दिल्ली। देश में कोरोना की संभावित तीसरी लहर...  \n",
              "2  बीजेपी यूपी में जनवरी के दूसरे हफ्ते से ब्राह्...  \n",
              "3  बागपत: उत्तर प्रदेश के बागपत में बिना अनुमति क...  \n",
              "4  भोपाल: मध्य प्रदेश की पूर्व मुख्यमंत्री और बीज...  "
            ],
            "text/html": [
              "\n",
              "\n",
              "  <div id=\"df-1837c668-795d-4c7f-a06d-f11dafda7451\">\n",
              "    <div class=\"colab-df-container\">\n",
              "      <div>\n",
              "<style scoped>\n",
              "    .dataframe tbody tr th:only-of-type {\n",
              "        vertical-align: middle;\n",
              "    }\n",
              "\n",
              "    .dataframe tbody tr th {\n",
              "        vertical-align: top;\n",
              "    }\n",
              "\n",
              "    .dataframe thead th {\n",
              "        text-align: right;\n",
              "    }\n",
              "</style>\n",
              "<table border=\"1\" class=\"dataframe\">\n",
              "  <thead>\n",
              "    <tr style=\"text-align: right;\">\n",
              "      <th></th>\n",
              "      <th>Heading</th>\n",
              "      <th>Summary</th>\n",
              "      <th>Article</th>\n",
              "    </tr>\n",
              "  </thead>\n",
              "  <tbody>\n",
              "    <tr>\n",
              "      <th>0</th>\n",
              "      <td>भारत की बढ़ी ताकत, ‘अग्नि प्राइम’ मिसाइल का हु...</td>\n",
              "      <td>भारत ने शनिवार को ओडिशा के बालासोर तट पर ‘अग्न...</td>\n",
              "      <td>भुवनेश्वर : भारत ने शनिवार को ओडिशा के बालासोर...</td>\n",
              "    </tr>\n",
              "    <tr>\n",
              "      <th>1</th>\n",
              "      <td>Covid-19 Vaccination: देश में कोविड टीके की 40...</td>\n",
              "      <td>केंद्रीय स्वास्थ्य मंत्रालय के मुताबिक, आज शाम...</td>\n",
              "      <td>नई दिल्ली। देश में कोरोना की संभावित तीसरी लहर...</td>\n",
              "    </tr>\n",
              "    <tr>\n",
              "      <th>2</th>\n",
              "      <td>यूपी में ब्राह्मण वोटरों को साधने की तैयारी कर...</td>\n",
              "      <td>बीजेपी के केंद्र सरकार में ब्राह्मण मंत्रियों,...</td>\n",
              "      <td>बीजेपी यूपी में जनवरी के दूसरे हफ्ते से ब्राह्...</td>\n",
              "    </tr>\n",
              "    <tr>\n",
              "      <th>3</th>\n",
              "      <td>बागपत में बिना इजाजत दाढ़ी रखने पर दरोगा सस्पे...</td>\n",
              "      <td>उत्तर प्रदेश के बागपत में बिना अनुमति के बड़ी ...</td>\n",
              "      <td>बागपत: उत्तर प्रदेश के बागपत में बिना अनुमति क...</td>\n",
              "    </tr>\n",
              "    <tr>\n",
              "      <th>4</th>\n",
              "      <td>कृषि क़ानूनों की वापसी की घोषणा पर मैं अवाक रह...</td>\n",
              "      <td>उमा भारती ने कहा कि अगर तीन कृषि कानूनों की मह...</td>\n",
              "      <td>भोपाल: मध्य प्रदेश की पूर्व मुख्यमंत्री और बीज...</td>\n",
              "    </tr>\n",
              "  </tbody>\n",
              "</table>\n",
              "</div>\n",
              "      <button class=\"colab-df-convert\" onclick=\"convertToInteractive('df-1837c668-795d-4c7f-a06d-f11dafda7451')\"\n",
              "              title=\"Convert this dataframe to an interactive table.\"\n",
              "              style=\"display:none;\">\n",
              "\n",
              "  <svg xmlns=\"http://www.w3.org/2000/svg\" height=\"24px\"viewBox=\"0 0 24 24\"\n",
              "       width=\"24px\">\n",
              "    <path d=\"M0 0h24v24H0V0z\" fill=\"none\"/>\n",
              "    <path d=\"M18.56 5.44l.94 2.06.94-2.06 2.06-.94-2.06-.94-.94-2.06-.94 2.06-2.06.94zm-11 1L8.5 8.5l.94-2.06 2.06-.94-2.06-.94L8.5 2.5l-.94 2.06-2.06.94zm10 10l.94 2.06.94-2.06 2.06-.94-2.06-.94-.94-2.06-.94 2.06-2.06.94z\"/><path d=\"M17.41 7.96l-1.37-1.37c-.4-.4-.92-.59-1.43-.59-.52 0-1.04.2-1.43.59L10.3 9.45l-7.72 7.72c-.78.78-.78 2.05 0 2.83L4 21.41c.39.39.9.59 1.41.59.51 0 1.02-.2 1.41-.59l7.78-7.78 2.81-2.81c.8-.78.8-2.07 0-2.86zM5.41 20L4 18.59l7.72-7.72 1.47 1.35L5.41 20z\"/>\n",
              "  </svg>\n",
              "      </button>\n",
              "\n",
              "\n",
              "\n",
              "    <div id=\"df-64038f0a-25a3-4d0c-aa0f-9f2fa556c881\">\n",
              "      <button class=\"colab-df-quickchart\" onclick=\"quickchart('df-64038f0a-25a3-4d0c-aa0f-9f2fa556c881')\"\n",
              "              title=\"Suggest charts.\"\n",
              "              style=\"display:none;\">\n",
              "\n",
              "<svg xmlns=\"http://www.w3.org/2000/svg\" height=\"24px\"viewBox=\"0 0 24 24\"\n",
              "     width=\"24px\">\n",
              "    <g>\n",
              "        <path d=\"M19 3H5c-1.1 0-2 .9-2 2v14c0 1.1.9 2 2 2h14c1.1 0 2-.9 2-2V5c0-1.1-.9-2-2-2zM9 17H7v-7h2v7zm4 0h-2V7h2v10zm4 0h-2v-4h2v4z\"/>\n",
              "    </g>\n",
              "</svg>\n",
              "      </button>\n",
              "    </div>\n",
              "\n",
              "<style>\n",
              "  .colab-df-quickchart {\n",
              "    background-color: #E8F0FE;\n",
              "    border: none;\n",
              "    border-radius: 50%;\n",
              "    cursor: pointer;\n",
              "    display: none;\n",
              "    fill: #1967D2;\n",
              "    height: 32px;\n",
              "    padding: 0 0 0 0;\n",
              "    width: 32px;\n",
              "  }\n",
              "\n",
              "  .colab-df-quickchart:hover {\n",
              "    background-color: #E2EBFA;\n",
              "    box-shadow: 0px 1px 2px rgba(60, 64, 67, 0.3), 0px 1px 3px 1px rgba(60, 64, 67, 0.15);\n",
              "    fill: #174EA6;\n",
              "  }\n",
              "\n",
              "  [theme=dark] .colab-df-quickchart {\n",
              "    background-color: #3B4455;\n",
              "    fill: #D2E3FC;\n",
              "  }\n",
              "\n",
              "  [theme=dark] .colab-df-quickchart:hover {\n",
              "    background-color: #434B5C;\n",
              "    box-shadow: 0px 1px 3px 1px rgba(0, 0, 0, 0.15);\n",
              "    filter: drop-shadow(0px 1px 2px rgba(0, 0, 0, 0.3));\n",
              "    fill: #FFFFFF;\n",
              "  }\n",
              "</style>\n",
              "\n",
              "    <script>\n",
              "      async function quickchart(key) {\n",
              "        const containerElement = document.querySelector('#' + key);\n",
              "        const charts = await google.colab.kernel.invokeFunction(\n",
              "            'suggestCharts', [key], {});\n",
              "      }\n",
              "    </script>\n",
              "\n",
              "      <script>\n",
              "\n",
              "function displayQuickchartButton(domScope) {\n",
              "  let quickchartButtonEl =\n",
              "    domScope.querySelector('#df-64038f0a-25a3-4d0c-aa0f-9f2fa556c881 button.colab-df-quickchart');\n",
              "  quickchartButtonEl.style.display =\n",
              "    google.colab.kernel.accessAllowed ? 'block' : 'none';\n",
              "}\n",
              "\n",
              "        displayQuickchartButton(document);\n",
              "      </script>\n",
              "      <style>\n",
              "    .colab-df-container {\n",
              "      display:flex;\n",
              "      flex-wrap:wrap;\n",
              "      gap: 12px;\n",
              "    }\n",
              "\n",
              "    .colab-df-convert {\n",
              "      background-color: #E8F0FE;\n",
              "      border: none;\n",
              "      border-radius: 50%;\n",
              "      cursor: pointer;\n",
              "      display: none;\n",
              "      fill: #1967D2;\n",
              "      height: 32px;\n",
              "      padding: 0 0 0 0;\n",
              "      width: 32px;\n",
              "    }\n",
              "\n",
              "    .colab-df-convert:hover {\n",
              "      background-color: #E2EBFA;\n",
              "      box-shadow: 0px 1px 2px rgba(60, 64, 67, 0.3), 0px 1px 3px 1px rgba(60, 64, 67, 0.15);\n",
              "      fill: #174EA6;\n",
              "    }\n",
              "\n",
              "    [theme=dark] .colab-df-convert {\n",
              "      background-color: #3B4455;\n",
              "      fill: #D2E3FC;\n",
              "    }\n",
              "\n",
              "    [theme=dark] .colab-df-convert:hover {\n",
              "      background-color: #434B5C;\n",
              "      box-shadow: 0px 1px 3px 1px rgba(0, 0, 0, 0.15);\n",
              "      filter: drop-shadow(0px 1px 2px rgba(0, 0, 0, 0.3));\n",
              "      fill: #FFFFFF;\n",
              "    }\n",
              "  </style>\n",
              "\n",
              "      <script>\n",
              "        const buttonEl =\n",
              "          document.querySelector('#df-1837c668-795d-4c7f-a06d-f11dafda7451 button.colab-df-convert');\n",
              "        buttonEl.style.display =\n",
              "          google.colab.kernel.accessAllowed ? 'block' : 'none';\n",
              "\n",
              "        async function convertToInteractive(key) {\n",
              "          const element = document.querySelector('#df-1837c668-795d-4c7f-a06d-f11dafda7451');\n",
              "          const dataTable =\n",
              "            await google.colab.kernel.invokeFunction('convertToInteractive',\n",
              "                                                     [key], {});\n",
              "          if (!dataTable) return;\n",
              "\n",
              "          const docLinkHtml = 'Like what you see? Visit the ' +\n",
              "            '<a target=\"_blank\" href=https://colab.research.google.com/notebooks/data_table.ipynb>data table notebook</a>'\n",
              "            + ' to learn more about interactive tables.';\n",
              "          element.innerHTML = '';\n",
              "          dataTable['output_type'] = 'display_data';\n",
              "          await google.colab.output.renderOutput(dataTable, element);\n",
              "          const docLink = document.createElement('div');\n",
              "          docLink.innerHTML = docLinkHtml;\n",
              "          element.appendChild(docLink);\n",
              "        }\n",
              "      </script>\n",
              "    </div>\n",
              "  </div>\n"
            ]
          },
          "metadata": {},
          "execution_count": 5
        }
      ],
      "source": [
        "df.head()"
      ]
    },
    {
      "cell_type": "code",
      "execution_count": null,
      "metadata": {
        "id": "vUGLOwz8Kc1_",
        "colab": {
          "base_uri": "https://localhost:8080/",
          "height": 54
        },
        "outputId": "95a1d78e-26f7-41df-ece0-a902e8788119"
      },
      "outputs": [
        {
          "output_type": "execute_result",
          "data": {
            "text/plain": [
              "'भारत ने शनिवार को ओडिशा के बालासोर तट पर ‘अग्नि प्राइम’ मिसाइल का सफल परीक्षण किया। सरकारी अधिकारियों ने इसकी जानकारी दी। अग्नि प्राइम मिसाइल अग्नि सीरीज की नए जनरेशन वाली एडवांस मिसाइल है।'"
            ],
            "application/vnd.google.colaboratory.intrinsic+json": {
              "type": "string"
            }
          },
          "metadata": {},
          "execution_count": 6
        }
      ],
      "source": [
        "df['Summary'][0]"
      ]
    },
    {
      "cell_type": "code",
      "execution_count": null,
      "metadata": {
        "id": "ch3R44c9KfzE",
        "colab": {
          "base_uri": "https://localhost:8080/",
          "height": 90
        },
        "outputId": "affb7b81-1d1d-408c-9de3-953cb192d17a"
      },
      "outputs": [
        {
          "output_type": "execute_result",
          "data": {
            "text/plain": [
              "'भुवनेश्वर : भारत ने शनिवार को ओडिशा के बालासोर तट पर ‘अग्नि प्राइम’ मिसाइल का सफल परीक्षण किया। सरकारी अधिकारियों ने इसकी जानकारी दी। अग्नि प्राइम मिसाइल अग्नि सीरीज की नए जनरेशन वाली एडवांस मिसाइल है। इसकी मारक क्षमता 1000 से 2000 किलोमीटर के बीच है। मिसाइल को रक्षा अनुसंधान और विकास संगठन (DRDO) द्वारा डिजाइन और विकसित किया गया है। अग्नि प्राइम अल्\\u200dट्रा मॉर्डन टेक्निक से लैस होने की वजह से बहुत हल्के वजन की मिसाइल है।आपको बता दें कि इसी सप्ताह भारत ‘सुपरसोनिक मिसाइल असिस्टेड टॉरपीडो सिस्टम’ का भी सफलतापूर्वक प्रक्षेपण किया था। इस मिसाइल का प्रक्षेपण ओडिशा तट से दूर अब्दुल कलाम द्वीप से किया गया था।'"
            ],
            "application/vnd.google.colaboratory.intrinsic+json": {
              "type": "string"
            }
          },
          "metadata": {},
          "execution_count": 7
        }
      ],
      "source": [
        "df['Article'][0]"
      ]
    },
    {
      "cell_type": "code",
      "execution_count": null,
      "metadata": {
        "id": "M7ayiF_cKh7Z"
      },
      "outputs": [],
      "source": [
        "#1 Feature\n",
        "def sentence_position(article):\n",
        "  A = article.split('।')\n",
        "  if(len(A) > 1):\n",
        "    del A[-1]\n",
        "  N = len(A)\n",
        "  sent_no = np.arange(1,N+1)\n",
        "  sent_pos = [round(abs(N/2-j)/(N/2),2) for j in sent_no]\n",
        "  return sent_pos"
      ]
    },
    {
      "cell_type": "code",
      "execution_count": null,
      "metadata": {
        "id": "oX6V2-_RKlSl",
        "colab": {
          "base_uri": "https://localhost:8080/"
        },
        "outputId": "c963e0ca-d31e-42da-f11c-94a3dc9be172"
      },
      "outputs": [
        {
          "output_type": "execute_result",
          "data": {
            "text/plain": [
              "[0.75, 0.5, 0.25, 0.0, 0.25, 0.5, 0.75, 1.0]"
            ]
          },
          "metadata": {},
          "execution_count": 9
        }
      ],
      "source": [
        "sentence_position(df['Article'][0])"
      ]
    },
    {
      "cell_type": "code",
      "execution_count": null,
      "metadata": {
        "id": "BiEQG_ZyKpzX"
      },
      "outputs": [],
      "source": [
        "#2 Feature\n",
        "def sentence_length(article):\n",
        "  articleSent = article.split('।')\n",
        "  if(len(articleSent) > 1):\n",
        "    del articleSent[-1]\n",
        "  sent_length = [0]*len(articleSent)\n",
        "  for i in range(len(articleSent)):\n",
        "    N = len(articleSent[i].split())\n",
        "    sent_length[i] = N\n",
        "\n",
        "  maxL = max(sent_length, default = 0)\n",
        "  minL = min(sent_length, default = 0)\n",
        "  avgL = (maxL + minL)/2\n",
        "\n",
        "  article_score = [round(1-(abs(avgL-L))/maxL,2) for L in sent_length]\n",
        "\n",
        "  return article_score"
      ]
    },
    {
      "cell_type": "code",
      "execution_count": null,
      "metadata": {
        "id": "mnJRgjvZK-FY"
      },
      "outputs": [],
      "source": [
        "sentence_length(df['Article'][0])"
      ]
    },
    {
      "cell_type": "code",
      "execution_count": null,
      "metadata": {
        "id": "-5yNoLlJLBPy"
      },
      "outputs": [],
      "source": [
        "#3 Feature\n",
        "def numeric_data(article):\n",
        "  A = article.split('।')\n",
        "  if(len(A) > 1):\n",
        "    del A[-1]\n",
        "  count = []\n",
        "  for i in range(len(A)):\n",
        "    words = A[i].split(' ')\n",
        "    countN = 0\n",
        "    for item in words:\n",
        "      if item.isnumeric() == True:\n",
        "        countN += 1\n",
        "    count.append(countN)\n",
        "\n",
        "  max_count = max(count, default = 0)\n",
        "  if max_count != 0 :\n",
        "    count = [num/max_count for num in count]\n",
        "    return count\n",
        "  return count"
      ]
    },
    {
      "cell_type": "code",
      "execution_count": null,
      "metadata": {
        "id": "LuHXwOkeLJ4W"
      },
      "outputs": [],
      "source": [
        "numeric_data(df['Article'][1])"
      ]
    },
    {
      "cell_type": "code",
      "execution_count": null,
      "metadata": {
        "id": "BoZZPQ7ULMdh"
      },
      "outputs": [],
      "source": [
        "# 50% of high frequency words in article\n",
        "def highFrequencyWords(article):\n",
        "  articleSentence = article.split('।')\n",
        "  if(len(articleSentence) > 1):\n",
        "    del articleSentence[-1]\n",
        "  words = []\n",
        "  for sent in articleSentence:\n",
        "    for word in sent.strip().split():\n",
        "      words.append(word)\n",
        "  d = {}\n",
        "  for item in set(words):\n",
        "    d[item] = 0\n",
        "  for item in words:\n",
        "    d[item] += 1\n",
        "  sorted_d = dict(sorted(d.items(), key=lambda x:x[1], reverse=True))\n",
        "  resultList = list(sorted_d.keys())\n",
        "  if len(resultList) < 2:\n",
        "    return resultList\n",
        "  return resultList[:len(resultList)//2]"
      ]
    },
    {
      "cell_type": "code",
      "execution_count": null,
      "metadata": {
        "id": "WXuvqBGuLTvi"
      },
      "outputs": [],
      "source": [
        "#4 Feature\n",
        "def thematic_words(article):\n",
        "  sentArticle = article.split('।')\n",
        "  if(len(sentArticle) > 1):\n",
        "    del sentArticle[-1]\n",
        "  articleScore = []\n",
        "  for sentence in sentArticle:\n",
        "    count = 0\n",
        "    for word in sentence.strip().split(' '):\n",
        "      if word in highFrequencyWords(article):\n",
        "        count += 1\n",
        "    articleScore.append(count)\n",
        "\n",
        "  max_score = max(articleScore, default = 0)\n",
        "  if max_score != 0 :\n",
        "    articleScore = [round(score/max_score,2) for score in articleScore]\n",
        "    return articleScore\n",
        "\n",
        "  return articleScore"
      ]
    },
    {
      "cell_type": "code",
      "execution_count": null,
      "metadata": {
        "id": "8Az092zELcAS"
      },
      "outputs": [],
      "source": [
        "thematic_words(df['Article'][0])"
      ]
    },
    {
      "cell_type": "code",
      "execution_count": null,
      "metadata": {
        "id": "U4WgQPyOLfNZ"
      },
      "outputs": [],
      "source": [
        "def wordDict(article):\n",
        "  articleSentence = article.split('।')\n",
        "  if(len(articleSentence) > 1):\n",
        "    del articleSentence[-1]\n",
        "  words = []\n",
        "  for sent in articleSentence:\n",
        "    for word in sent.strip().split():\n",
        "      words.append(word)\n",
        "  d = {}\n",
        "  for item in set(words):\n",
        "    d[item] = 0\n",
        "  for item in words:\n",
        "    d[item] += 1\n",
        "  sorted_d = dict(sorted(d.items(), key=lambda x:x[1], reverse=True))\n",
        "  return sorted_d"
      ]
    },
    {
      "cell_type": "code",
      "execution_count": null,
      "metadata": {
        "id": "QSSlnbFOLijT"
      },
      "outputs": [],
      "source": [
        "#5 Feature\n",
        "def Entropy(article):\n",
        "  Dict = wordDict(article)\n",
        "  mostOccuringWord = highFrequencyWords(article)[0]\n",
        "  highestFreq = Dict[mostOccuringWord]\n",
        "  sentArticle = article.split('।')\n",
        "  if(len(sentArticle) > 1):\n",
        "    del sentArticle[-1]\n",
        "  articleScore = []\n",
        "  for sentence in sentArticle:\n",
        "    wordProbability = []\n",
        "    for word in sentence.strip().split():\n",
        "      x = round(Dict[word]/highestFreq,2)\n",
        "      wordProbability.append(x)\n",
        "    wordProbability = [-(prob*(math.log(prob,2))) for prob in wordProbability]\n",
        "    articleScore.append(sum(wordProbability))\n",
        "\n",
        "  max_score = max(articleScore, default = 0)\n",
        "  if(max_score != 0):\n",
        "    articleScore = [round(score/max_score,2) for score in articleScore]\n",
        "    return articleScore\n",
        "\n",
        "  return articleScore"
      ]
    },
    {
      "cell_type": "code",
      "execution_count": null,
      "metadata": {
        "id": "LQlNOwxFLlVW"
      },
      "outputs": [],
      "source": [
        "Entropy(df['Article'][0])"
      ]
    },
    {
      "cell_type": "code",
      "execution_count": null,
      "metadata": {
        "id": "n_2lZDppLn3a"
      },
      "outputs": [],
      "source": [
        "text = df['Article'][1]\n",
        "\n",
        "train_data = indian.tagged_sents('hindi.pos')\n",
        "tnt_pos_tagger = tnt.TnT()\n",
        "tnt_pos_tagger.train(train_data)\n",
        "tagged_words = (tnt_pos_tagger.tag(nltk.word_tokenize(text)))\n",
        "print(tagged_words)"
      ]
    },
    {
      "cell_type": "code",
      "execution_count": null,
      "metadata": {
        "id": "5OGrnUtbMOur"
      },
      "outputs": [],
      "source": [
        "from collections import Counter"
      ]
    },
    {
      "cell_type": "code",
      "execution_count": null,
      "metadata": {
        "id": "rrYh2jF5MbWz"
      },
      "outputs": [],
      "source": [
        "#6 Feature\n",
        "def postags(article):\n",
        "  sentArticle = article.split('।')\n",
        "  if(len(sentArticle) > 1):\n",
        "    del sentArticle[-1]\n",
        "  pos = []\n",
        "  pos_ct = []\n",
        "  for i in range(len(sentArticle)):\n",
        "    ct = 0\n",
        "    tokenizer = nltk.RegexpTokenizer(r\"\\w+\")\n",
        "    tokens = tokenizer.tokenize(sentArticle[i])\n",
        "    pos = nltk.pos_tag(tokens)\n",
        "    the_count = dict(Counter(tag for _, tag in pos))\n",
        "    pos.append(the_count)\n",
        "    keys = the_count.keys()\n",
        "    for i in keys:\n",
        "      if(i == 'NN' or i == 'NNC' or i == 'JVB' or i == 'VNN' or i == 'NNP' or i == 'NVB' or i == 'VFM' or i == 'VAUX'):\n",
        "        ct += the_count[i]\n",
        "    pos_ct.append(ct)\n",
        "\n",
        "  max_pos = max(pos_ct, default = 0)\n",
        "  if(max_pos != 0):\n",
        "    pos_ct = [round(i/max_pos,2) for i in pos_ct]\n",
        "    return pos_ct\n",
        "  return pos_ct"
      ]
    },
    {
      "cell_type": "code",
      "execution_count": null,
      "metadata": {
        "id": "I7q3S_JpMiLt"
      },
      "outputs": [],
      "source": [
        "postags(df['Article'][0])"
      ]
    },
    {
      "cell_type": "code",
      "execution_count": null,
      "metadata": {
        "id": "7l_vYMVMMknK"
      },
      "outputs": [],
      "source": [
        "# frequency of the word in that sent\n",
        "\n",
        "def tf(sent,word):\n",
        "  count = 0\n",
        "  for words in sent.split():\n",
        "    if word == words:\n",
        "      count += 1\n",
        "  return count"
      ]
    },
    {
      "cell_type": "code",
      "execution_count": null,
      "metadata": {
        "id": "dZLmx5lJMm6j"
      },
      "outputs": [],
      "source": [
        "# frequency of the word- in how many sentences word occurs in the article\n",
        "\n",
        "def word_fr(sentArticle,word):\n",
        "  count = 0\n",
        "  for sent in sentArticle:\n",
        "    for words in sent.split():\n",
        "      if word == words:\n",
        "        count += 1\n",
        "        break\n",
        "  return count"
      ]
    },
    {
      "cell_type": "code",
      "execution_count": null,
      "metadata": {
        "id": "2ihdh92SMpJb"
      },
      "outputs": [],
      "source": [
        "#7 Feature\n",
        "def tfisf(article):\n",
        "  sentArticle = article.split('।')\n",
        "  if(len(sentArticle) > 1):\n",
        "    del sentArticle[-1]\n",
        "  article_score = []\n",
        "  for sent in sentArticle:\n",
        "    TF_sent = []\n",
        "    N_t_ = []\n",
        "    sent_score = []\n",
        "    for word in sent.split():\n",
        "      TF_sent.append(tf(sent,word))\n",
        "      N_t_.append(word_fr(sentArticle,word))\n",
        "    ISF = [math.log(len(sentArticle)/N,2) for N in N_t_]\n",
        "\n",
        "    for i in range(len(N_t_)):\n",
        "      tf_isf = TF_sent[i] * ISF[i]\n",
        "      sent_score.append(tf_isf)\n",
        "\n",
        "    article_score.append(sum(sent_score))\n",
        "\n",
        "  max_score = max(article_score, default = 0)\n",
        "\n",
        "  if (max_score != 0):\n",
        "    article_score = [round(score/max_score,2) for score in article_score]\n",
        "    return article_score\n",
        "\n",
        "  return article_score"
      ]
    },
    {
      "cell_type": "code",
      "execution_count": null,
      "metadata": {
        "id": "QzZsAS9PMvoM"
      },
      "outputs": [],
      "source": [
        "tfisf(df['Article'][0])"
      ]
    },
    {
      "cell_type": "code",
      "execution_count": null,
      "metadata": {
        "id": "tDwQ04bdMx8z"
      },
      "outputs": [],
      "source": [
        "def sent_tfisf(article):\n",
        "  sentArticle = article.split('।')\n",
        "  if(len(sentArticle) > 1):\n",
        "    del sentArticle[-1]\n",
        "  article_score = []\n",
        "  for sent in sentArticle:\n",
        "    TF_sent = []\n",
        "    N_t_ = []\n",
        "    sent_score = []\n",
        "    for word in sent.split():\n",
        "      TF_sent.append(tf(sent,word))\n",
        "      N_t_.append(word_fr(sentArticle,word))\n",
        "    ISF = [math.log(len(sentArticle)/N,2) for N in N_t_]\n",
        "\n",
        "    for i in range(len(N_t_)):\n",
        "      tf_isf = TF_sent[i] * ISF[i]\n",
        "      sent_score.append(tf_isf)\n",
        "\n",
        "    article_score.append(sent_score)\n",
        "\n",
        "  return article_score"
      ]
    },
    {
      "cell_type": "code",
      "execution_count": null,
      "metadata": {
        "id": "KxR0_fNvM1cE"
      },
      "outputs": [],
      "source": [
        "def sent_vector(article):\n",
        "  array2D = sent_tfisf(article)\n",
        "  max_length = 0\n",
        "  for array in array2D:\n",
        "    if len(array) > max_length:\n",
        "      max_length = len(array)\n",
        "\n",
        "  for array in array2D:\n",
        "    for i in range(max_length-len(array)):\n",
        "      array.append(0)\n",
        "\n",
        "  return array2D"
      ]
    },
    {
      "cell_type": "code",
      "execution_count": null,
      "metadata": {
        "id": "kt7_k63QM963"
      },
      "outputs": [],
      "source": [
        "def cosine_matrix(article):\n",
        "  array2D = sent_vector(article)\n",
        "  rows = cols = len(array2D)\n",
        "  score_arr = np.array([[0.0000]*cols]*rows)\n",
        "  for i in range(rows):\n",
        "    for j in range(cols):\n",
        "      A = np.array(array2D[i])\n",
        "      B = np.array(array2D[j])\n",
        "      cosine = np.dot(A,B)/(norm(A)*norm(B))\n",
        "      score_arr[i][j] = cosine;\n",
        "  score_arr = [np.round(score,2) for score in score_arr]\n",
        "  return score_arr"
      ]
    },
    {
      "cell_type": "code",
      "execution_count": null,
      "metadata": {
        "id": "pSEftKZQNC0_"
      },
      "outputs": [],
      "source": [
        "cosine_matrix(df['Article'][0])"
      ]
    },
    {
      "cell_type": "code",
      "execution_count": null,
      "metadata": {
        "id": "fDWJgjLcNK-B"
      },
      "outputs": [],
      "source": [
        "#8 Feature\n",
        "def aggregate_score(article):\n",
        "  cosineMatrix = cosine_matrix(article)\n",
        "  article_score = []\n",
        "  for array in cosineMatrix:\n",
        "    sum = 0\n",
        "    for num in array:\n",
        "      sum += num\n",
        "    article_score.append(sum)\n",
        "\n",
        "  max_score = max(article_score, default = 0)\n",
        "  if max_score != 0 :\n",
        "    article_score = [round(score/max_score,2) for score in article_score]\n",
        "    return article_score\n",
        "\n",
        "  return article_score"
      ]
    },
    {
      "cell_type": "code",
      "execution_count": null,
      "metadata": {
        "id": "VmAxfXczN6nG"
      },
      "outputs": [],
      "source": [
        "aggregate_score(df['Article'][0])"
      ]
    },
    {
      "cell_type": "code",
      "execution_count": null,
      "metadata": {
        "id": "tYqY5mt3N8_0"
      },
      "outputs": [],
      "source": [
        "#9 Feature\n",
        "def busyPath(article):\n",
        "  cosineMatrix = cosine_matrix(article)\n",
        "  N = len(cosineMatrix)\n",
        "  article_score = []\n",
        "  alpha = 0.7\n",
        "  for i in range(N):\n",
        "    for j in range(N):\n",
        "      if cosineMatrix[i][j] < 0.7:\n",
        "        cosineMatrix[i][j] = 0\n",
        "      else :\n",
        "        cosineMatrix[i][j] = 1\n",
        "\n",
        "  for array in cosineMatrix:\n",
        "    count = 0\n",
        "    for num in array:\n",
        "      if num == 0:\n",
        "        count += 1\n",
        "    article_score.append(count)\n",
        "\n",
        "  max_score = max(article_score, default = 0)\n",
        "\n",
        "  if max_score != 0:\n",
        "    article_score = [round(score/max_score,2) for score in article_score]\n",
        "    return article_score\n",
        "\n",
        "  return article_score"
      ]
    },
    {
      "cell_type": "code",
      "execution_count": null,
      "metadata": {
        "id": "ESFTGAiuN_Gx"
      },
      "outputs": [],
      "source": [
        "busyPath(df['Article'][0])"
      ]
    },
    {
      "cell_type": "code",
      "execution_count": null,
      "metadata": {
        "id": "zsXIHVSlC18N"
      },
      "outputs": [],
      "source": [
        "#10 Feature\n",
        "\n",
        "def heading_match(article,heading):\n",
        "  headingDict = wordDict(heading)\n",
        "  articleSentence = article.split('।')\n",
        "  if(len(articleSentence) > 1):\n",
        "    del articleSentence[-1]\n",
        "\n",
        "  article_score = []\n",
        "\n",
        "  for sent in articleSentence:\n",
        "    sent_count = 0\n",
        "    for word in sent.strip().split():\n",
        "      if word in headingDict.keys():\n",
        "        sent_count += 1\n",
        "    article_score.append(sent_count)\n",
        "\n",
        "  max_score = max(article_score, default = 0)\n",
        "\n",
        "  if(max_score != 0):\n",
        "    article_score = [round(score/max_score,2) for score in article_score]\n",
        "    return article_score\n",
        "\n",
        "  return article_score"
      ]
    },
    {
      "cell_type": "code",
      "execution_count": null,
      "metadata": {
        "id": "iYX8KfTeC2Lh"
      },
      "outputs": [],
      "source": [
        "heading_match(df['Article'][0],df['Heading'][0])"
      ]
    },
    {
      "cell_type": "code",
      "execution_count": null,
      "metadata": {
        "id": "Lm-Xpb3HTdGI"
      },
      "outputs": [],
      "source": [
        "len(df)"
      ]
    },
    {
      "cell_type": "code",
      "execution_count": null,
      "metadata": {
        "id": "jOD8DOBtOBCe"
      },
      "outputs": [],
      "source": [
        "Articles = []\n",
        "\n",
        "for i in range(len(df)):\n",
        "  article = df['Article'][i]\n",
        "  sentences = article.split('।')\n",
        "  if(len(sentences) > 1):\n",
        "    del sentences[-1]\n",
        "  for j in range(len(sentences)):\n",
        "    Articles.append('A'+str(i+1))"
      ]
    },
    {
      "cell_type": "code",
      "execution_count": null,
      "metadata": {
        "id": "eOGSa9xPTOcr"
      },
      "outputs": [],
      "source": [
        "len(Articles)"
      ]
    },
    {
      "cell_type": "code",
      "execution_count": null,
      "metadata": {
        "id": "WuLr2aKHUow6"
      },
      "outputs": [],
      "source": [
        "Sentences = []\n",
        "\n",
        "for i in range(len(df)):\n",
        "  article = df['Article'][i]\n",
        "  sentences = article.split('।')\n",
        "  if(len(sentences) > 1):\n",
        "    del sentences[-1]\n",
        "  for j in range(len(sentences)):\n",
        "    Sentences.append('S'+str(j+1))"
      ]
    },
    {
      "cell_type": "code",
      "execution_count": null,
      "metadata": {
        "id": "1ifUd7j9UzZW"
      },
      "outputs": [],
      "source": [
        "len(Sentences)"
      ]
    },
    {
      "cell_type": "code",
      "execution_count": null,
      "metadata": {
        "id": "oznB6sXnVio-"
      },
      "outputs": [],
      "source": [
        "#1  sentence_position(article)\n",
        "#2  sentence_length(article)\n",
        "#3  numeric_data(article)\n",
        "#4  thematic_words(article)\n",
        "#5  Entropy(article)\n",
        "#6  postags(article)\n",
        "#7  tfisf(article)\n",
        "#8  aggregate_score(article)\n",
        "#9  busyPath(article)\n",
        "#10 heading_match(article,heading)"
      ]
    },
    {
      "cell_type": "code",
      "execution_count": null,
      "metadata": {
        "id": "HPNZBP-gU0Id"
      },
      "outputs": [],
      "source": [
        "Feature1 = []\n",
        "\n",
        "for i in range(len(df)):\n",
        "  article = df['Article'][i]\n",
        "  for num in sentence_position(article):\n",
        "    Feature1.append(num)"
      ]
    },
    {
      "cell_type": "code",
      "execution_count": null,
      "metadata": {
        "id": "ro3f3ckvWcyB"
      },
      "outputs": [],
      "source": [
        "len(Feature1)"
      ]
    },
    {
      "cell_type": "code",
      "execution_count": null,
      "metadata": {
        "id": "pltARo6jWeZS"
      },
      "outputs": [],
      "source": [
        "Feature2 = []\n",
        "\n",
        "for i in range(len(df)):\n",
        "  article = df['Article'][i]\n",
        "  for num in sentence_length(article):\n",
        "    Feature2.append(num)"
      ]
    },
    {
      "cell_type": "code",
      "execution_count": null,
      "metadata": {
        "id": "axYC0nxXzTnO"
      },
      "outputs": [],
      "source": [
        "len(Feature2)"
      ]
    },
    {
      "cell_type": "code",
      "execution_count": null,
      "metadata": {
        "id": "flAxGj9nWvgF"
      },
      "outputs": [],
      "source": [
        "Feature3 = []\n",
        "\n",
        "for i in range(len(df)):\n",
        "  article = df['Article'][i]\n",
        "  for num in numeric_data(article):\n",
        "    Feature3.append(num)"
      ]
    },
    {
      "cell_type": "code",
      "execution_count": null,
      "metadata": {
        "id": "wfsWQrYs1vs4"
      },
      "outputs": [],
      "source": [
        "len(Feature3)"
      ]
    },
    {
      "cell_type": "code",
      "execution_count": null,
      "metadata": {
        "id": "ViJXC5OYTAzD"
      },
      "outputs": [],
      "source": [
        "Feature3"
      ]
    },
    {
      "cell_type": "code",
      "execution_count": null,
      "metadata": {
        "id": "x_pdHF5NZfH9"
      },
      "outputs": [],
      "source": [
        "Feature4 = []\n",
        "\n",
        "for i in range(len(df)):\n",
        "  article = df['Article'][i]\n",
        "  for num in thematic_words(article):\n",
        "    Feature4.append(num)"
      ]
    },
    {
      "cell_type": "code",
      "execution_count": null,
      "metadata": {
        "id": "ix8bf4XaZn1i"
      },
      "outputs": [],
      "source": [
        "len(Feature4)"
      ]
    },
    {
      "cell_type": "code",
      "execution_count": null,
      "metadata": {
        "id": "MJeoKwZqYz_y"
      },
      "outputs": [],
      "source": [
        "Feature4"
      ]
    },
    {
      "cell_type": "code",
      "execution_count": null,
      "metadata": {
        "id": "AAkXlXXbeKPI"
      },
      "outputs": [],
      "source": [
        "Feature5 = []\n",
        "\n",
        "for i in range(len(df)):\n",
        "  article = df['Article'][i]\n",
        "  for num in Entropy(article):\n",
        "    Feature5.append(num)"
      ]
    },
    {
      "cell_type": "code",
      "execution_count": null,
      "metadata": {
        "id": "M2Cj_QrR2id-"
      },
      "outputs": [],
      "source": [
        "len(Feature5)"
      ]
    },
    {
      "cell_type": "code",
      "execution_count": null,
      "metadata": {
        "id": "1o0dY4qkqIaT"
      },
      "outputs": [],
      "source": [
        "Feature5"
      ]
    },
    {
      "cell_type": "code",
      "execution_count": null,
      "metadata": {
        "id": "tHPfTLba2lVo"
      },
      "outputs": [],
      "source": [
        "Feature6 = []\n",
        "\n",
        "for i in range(len(df)):\n",
        "  article = df['Article'][i]\n",
        "  for num in postags(article):\n",
        "    Feature6.append(num)"
      ]
    },
    {
      "cell_type": "code",
      "execution_count": null,
      "metadata": {
        "id": "0ms8U-Ze2lm2"
      },
      "outputs": [],
      "source": [
        "len(Feature6)"
      ]
    },
    {
      "cell_type": "code",
      "execution_count": null,
      "metadata": {
        "id": "n-GKJdBVT94Y"
      },
      "outputs": [],
      "source": [
        "Feature6"
      ]
    },
    {
      "cell_type": "code",
      "execution_count": null,
      "metadata": {
        "id": "1eKLyft42lpf"
      },
      "outputs": [],
      "source": [
        "Feature7 = []\n",
        "\n",
        "for i in range(len(df)):\n",
        "  article = df['Article'][i]\n",
        "  for num in tfisf(article):\n",
        "    Feature7.append(num)"
      ]
    },
    {
      "cell_type": "code",
      "execution_count": null,
      "metadata": {
        "id": "kBdNg9oLT89i"
      },
      "outputs": [],
      "source": [
        "Feature7"
      ]
    },
    {
      "cell_type": "code",
      "execution_count": null,
      "metadata": {
        "id": "nPnk9nRd2lsL"
      },
      "outputs": [],
      "source": [
        "len(Feature7)"
      ]
    },
    {
      "cell_type": "code",
      "execution_count": null,
      "metadata": {
        "id": "VMS5Dlt42lvI"
      },
      "outputs": [],
      "source": [
        "Feature8 = []\n",
        "\n",
        "for i in range(len(df)):\n",
        "  article = df['Article'][i]\n",
        "  for num in aggregate_score(article):\n",
        "    Feature8.append(num)"
      ]
    },
    {
      "cell_type": "code",
      "execution_count": null,
      "metadata": {
        "id": "dBKNdKsp2lyv"
      },
      "outputs": [],
      "source": [
        "len(Feature8)"
      ]
    },
    {
      "cell_type": "code",
      "execution_count": null,
      "metadata": {
        "id": "N5hLfvwLXQ0W"
      },
      "outputs": [],
      "source": [
        "Feature8"
      ]
    },
    {
      "cell_type": "code",
      "execution_count": null,
      "metadata": {
        "id": "m-FONjAa3Rmb"
      },
      "outputs": [],
      "source": [
        "Feature9 = []\n",
        "\n",
        "for i in range(len(df)):\n",
        "  article = df['Article'][i]\n",
        "  for num in busyPath(article):\n",
        "    Feature9.append(num)"
      ]
    },
    {
      "cell_type": "code",
      "execution_count": null,
      "metadata": {
        "id": "9oeQDMlI3c4D"
      },
      "outputs": [],
      "source": [
        "len(Feature9)"
      ]
    },
    {
      "cell_type": "code",
      "execution_count": null,
      "metadata": {
        "id": "m8gX7KOPXU8r"
      },
      "outputs": [],
      "source": [
        "Feature9"
      ]
    },
    {
      "cell_type": "code",
      "execution_count": null,
      "metadata": {
        "id": "YV9wQCLeGUmd"
      },
      "outputs": [],
      "source": [
        "Feature10 = []\n",
        "\n",
        "for i in range(len(df)):\n",
        "  article = df['Article'][i]\n",
        "  heading = df['Heading'][i]\n",
        "  for num in heading_match(article,heading):\n",
        "    Feature10.append(num)"
      ]
    },
    {
      "cell_type": "code",
      "execution_count": null,
      "metadata": {
        "id": "pYW6d_BJHuCZ"
      },
      "outputs": [],
      "source": [
        "len(Feature10)"
      ]
    },
    {
      "cell_type": "code",
      "execution_count": null,
      "metadata": {
        "id": "6kDEGIlKHyW-"
      },
      "outputs": [],
      "source": [
        "Feature10"
      ]
    },
    {
      "cell_type": "code",
      "execution_count": null,
      "metadata": {
        "id": "soDNivyoZMQB"
      },
      "outputs": [],
      "source": [
        "#1 sentence_position(article)\n",
        "#2  sentence_length(article)\n",
        "#3  numeric_data(article)\n",
        "#4  thematic_words(article)\n",
        "#5  Entropy(article)\n",
        "#6  postags(article)\n",
        "#7  tfisf(article)\n",
        "#8  aggregate_score(article)\n",
        "#9  busyPath(article)\n",
        "data = {\n",
        "    'Article' : Articles,\n",
        "    'Sentence' : Sentences,\n",
        "    'Sentence Position' : Feature1,\n",
        "    'Sentence Length' : Feature2,\n",
        "    'Numeric Data' : Feature3,\n",
        "    'Thematic Words' : Feature4,\n",
        "    'Entropy' : Feature5,\n",
        "    'POS tags' : Feature6,\n",
        "    'TF-ISF' : Feature7,\n",
        "    'Aggregate Score' : Feature8,\n",
        "    'Busy Path' : Feature9,\n",
        "    'Heading Match' : Feature10\n",
        "}\n",
        "new_df = pd.DataFrame(data)"
      ]
    },
    {
      "cell_type": "code",
      "execution_count": null,
      "metadata": {
        "id": "waOJUkV5NUET"
      },
      "outputs": [],
      "source": [
        "new_df.head()"
      ]
    },
    {
      "cell_type": "code",
      "execution_count": null,
      "metadata": {
        "id": "ybJVE-5QaJkL"
      },
      "outputs": [],
      "source": [
        "# new_df.to_csv('file2.csv')"
      ]
    },
    {
      "cell_type": "code",
      "source": [
        "new_df = pd.read_csv('/content/drive/MyDrive/Minor Project/file2.csv')\n",
        "new_df.head()"
      ],
      "metadata": {
        "id": "2Ih31nTjRLD3"
      },
      "execution_count": null,
      "outputs": []
    },
    {
      "cell_type": "code",
      "source": [
        "new_df.rename(columns = {'Heading Match':'Title'}, inplace = True)"
      ],
      "metadata": {
        "id": "CjqgtAWxRWZr"
      },
      "execution_count": null,
      "outputs": []
    },
    {
      "cell_type": "code",
      "source": [
        "new_df.head()"
      ],
      "metadata": {
        "id": "Xa5h5ELPSlwL"
      },
      "execution_count": null,
      "outputs": []
    },
    {
      "cell_type": "code",
      "source": [
        "new_df.drop(['Unnamed: 0'],axis=1,inplace=True)\n",
        "new_df.head()"
      ],
      "metadata": {
        "id": "1hxTl6vKWIBc"
      },
      "execution_count": null,
      "outputs": []
    },
    {
      "cell_type": "code",
      "source": [
        "new_df.to_csv('file3.csv')"
      ],
      "metadata": {
        "id": "uWDMGsQlSnzp"
      },
      "execution_count": null,
      "outputs": []
    },
    {
      "cell_type": "code",
      "source": [
        "new_df.info()"
      ],
      "metadata": {
        "id": "T-Syd4WvStuU"
      },
      "execution_count": null,
      "outputs": []
    },
    {
      "cell_type": "code",
      "source": [
        "new_df.describe()"
      ],
      "metadata": {
        "id": "zAwKPY8xhyuE"
      },
      "execution_count": null,
      "outputs": []
    },
    {
      "cell_type": "code",
      "source": [
        "new_df.columns"
      ],
      "metadata": {
        "id": "Ky7_Zm1Ch_3R"
      },
      "execution_count": null,
      "outputs": []
    }
  ],
  "metadata": {
    "colab": {
      "provenance": [],
      "include_colab_link": true
    },
    "kernelspec": {
      "display_name": "Python 3",
      "name": "python3"
    },
    "language_info": {
      "name": "python"
    }
  },
  "nbformat": 4,
  "nbformat_minor": 0
}